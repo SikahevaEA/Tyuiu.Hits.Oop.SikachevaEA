{
 "cells": [
  {
   "cell_type": "markdown",
   "metadata": {},
   "source": [
    "<h1 style=\"color:DodgerBlue\">Индивидальный проект</h1>"
   ]
  },
  {
   "cell_type": "markdown",
   "metadata": {},
   "source": [
    "<h2 style=\"color:DodgerBlue\">Название проекта:</h2>\n",
    "\n",
    "----\n",
    "\n",
    "3 Вариант задания \n"
   ]
  },
  {
   "cell_type": "markdown",
   "metadata": {},
   "source": [
    "<h2 style=\"color:DodgerBlue\">Описание проекта:</h2>\n",
    "\n",
    "----\n",
    "\n",
    "Создать базовый класс Employee в C#, который будет представлять информацию о\n",
    "сотрудниках компании. На основе этого класса разработать 2-3 производных\n",
    "класса, демонстрирующих принципы наследования и полиморфизма. В каждом из\n",
    "классов должны быть реализованы новые атрибуты и методы, а также\n",
    "переопределены некоторые методы базового класса для демонстрации\n",
    "полиморфизма.\n",
    "\n",
    "Требования к базовому классу Employee:\n",
    "• Атрибуты: Имя (Name), Возраст (Age), Зарплата (Salary).\n",
    "\n",
    "• Методы:\n",
    "\n",
    "o GetInfo(): метод для получения информации о сотруднике в виде\n",
    "строки.\n",
    "\n",
    "o Work(): метод для вывода сообщения о выполнении рабочих\n",
    "обязанностей.\n",
    "\n",
    "o TakeVacation(): метод для вывода сообщения о взятии отпуска.\n",
    "\n",
    "Требования к производным классам:\n",
    "1. Менеджер (Manager): Должен содержать дополнительные атрибуты, такие\n",
    "как Количество подчиненных (SubordinatesCount). Метод Work() должен быть\n",
    "переопределен для добавления информации о управлении командой.\n",
    "2. Разработчик (Developer): Должен содержать дополнительные атрибуты,\n",
    "такие как Специализация (Specialization). Метод TakeVacation() должен быть\n",
    "переопределен для добавления информации о необходимости согласования\n",
    "отпуска с проектными сроками.\n",
    "3. Дизайнер (Designer) (если требуется третий класс): Должен содержать\n",
    "дополнительные атрибуты, такие как Стиль дизайна (DesignStyle).\n",
    "Метод Work() должен быть переопределен для добавления информации о\n",
    "работе над дизайн-проектами.\n"
   ]
  },
  {
   "cell_type": "markdown",
   "metadata": {},
   "source": [
    "<h2 style=\"color:DodgerBlue\">Реализация:</h2>\n",
    "\n",
    "----"
   ]
  },
  {
   "cell_type": "code",
   "execution_count": 2,
   "metadata": {
    "dotnet_interactive": {
     "language": "csharp"
    },
    "polyglot_notebook": {
     "kernelName": "csharp"
    }
   },
   "outputs": [],
   "source": [
    "using System;\n",
    "\n",
    "public class Employee\n",
    "{\n",
    "    public int Age {get;set;}\n",
    "    public string Name {get;set;}\n",
    "    public int Salary {get;set;}\n",
    "\n",
    "    public Employee (string name, int age, int salary)\n",
    "    {\n",
    "        Name = name;\n",
    "        Age = age;\n",
    "        Salary = salary;\n",
    "    }\n",
    "    public virtual void GetInfo()\n",
    "    {\n",
    "        Console.WriteLine($\"Сотрудник: Имя:'{Name}'; Возраст:'{Age}' лет; Зарплата:'{Salary}'\");\n",
    "    }\n",
    "    public virtual void Work()\n",
    "    {\n",
    "        Console.WriteLine($\"'{Name}' выполнил рабочие обязансти\");\n",
    "    }\n",
    "    public virtual void TakeVacation()\n",
    "    {\n",
    "        Console.WriteLine($\"'{Name}' взял отпуск\");\n",
    "    }\n",
    "}\n",
    "public class Manager : Employee\n",
    "{\n",
    "    public int SubordinatesCount {get;set;}\n",
    "    public Manager (string name, int age, int salary, int subordinatesCount) : base (name, age, salary)\n",
    "    {\n",
    "        SubordinatesCount = subordinatesCount;\n",
    "    }\n",
    "    public override void Work()\n",
    "    {\n",
    "        Console.WriteLine($\"'{Name}' поставил команде финальные задачи\");\n",
    "    }\n",
    "}\n",
    "public class Developer : Employee\n",
    "{\n",
    "    public string Specialization {get;set;}\n",
    "    public Developer (string name, int age, int salary, string specialization) : base (name, age, salary)\n",
    "    {\n",
    "        Specialization = specialization;\n",
    "    }\n",
    "    public override void TakeVacation()\n",
    "    {\n",
    "        Console.WriteLine($\"Необходимо согласовать отпуск '{Name}' с проектными сроками\");\n",
    "    }\n",
    "}\n",
    "public class Designer : Employee\n",
    "{\n",
    "    public string DesignStyle {get;set;}\n",
    "    public Designer (string name, int age, int salary, string designStyle) : base (name, age, salary)\n",
    "    {\n",
    "        DesignStyle = designStyle;\n",
    "    }\n",
    "    public override void Work()\n",
    "    {\n",
    "        Console.WriteLine($\"'{Name}' разработал интерактивный интервейс веб-сайта\");\n",
    "    }\n",
    "}\n",
    "\n",
    "\n",
    "Manager manager = new Manager(\"Олег Иванов\", 35, 60000, 6);\n",
    "manager.GetInfo();\n",
    "manager.Work();\n",
    "Console.WriteLine(\"\\n\");\n",
    "Developer developer = new Developer(\"Антон Антонов\", 45, 55000, \"сео разработчик\");\n",
    "developer.GetInfo();\n",
    "developer.Work();\n",
    "developer.TakeVacation();\n",
    "Console.WriteLine(\"\\n\");\n",
    "Designer designer = new Designer(\"Александр Александров\", 28, 45000, \"интерактивный дизайн\");\n",
    "designer.GetInfo();\n",
    "designer.Work();\n",
    "Console.WriteLine(\"\\n\");"
   ]
  }
 ],
 "metadata": {
  "kernelspec": {
   "display_name": ".NET (C#)",
   "language": "C#",
   "name": ".net-csharp"
  },
  "polyglot_notebook": {
   "kernelInfo": {
    "defaultKernelName": "csharp",
    "items": [
     {
      "aliases": [],
      "languageName": "csharp",
      "name": "csharp"
     }
    ]
   }
  }
 },
 "nbformat": 4,
 "nbformat_minor": 2
}
